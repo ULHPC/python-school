{
 "cells": [
  {
   "cell_type": "markdown",
   "id": "4f19c244",
   "metadata": {},
   "source": [
    "# Euclidean distance, step by step"
   ]
  },
  {
   "cell_type": "code",
   "execution_count": null,
   "id": "d3b9e62b",
   "metadata": {},
   "outputs": [],
   "source": [
    "import numpy as np\n",
    "\n",
    "# Step 1: Create two random arrays of 5 elements each\n",
    "array1 = np.random.rand(5)\n",
    "array2 = np.random.rand(5)\n",
    "# Are oposite\n",
    "#array1 = np.zeros(5)\n",
    "#array2 = np.ones(5)\n",
    "# Are equal\n",
    "#array1 = np.ones(5)\n",
    "#array2 = np.ones(5)\n",
    "\n",
    "# Step 2: Display the arrays\n",
    "print(\"Array 1:\", array1)\n",
    "print(\"Array 2:\", array2)"
   ]
  },
  {
   "cell_type": "code",
   "execution_count": null,
   "id": "c653681d",
   "metadata": {},
   "outputs": [],
   "source": [
    "# Step 3: Calculate the difference between corresponding elements\n",
    "difference = array1 - array2\n",
    "print(\"Difference:\", difference)"
   ]
  },
  {
   "cell_type": "code",
   "execution_count": null,
   "id": "4b78acf4",
   "metadata": {},
   "outputs": [],
   "source": [
    "# Step 4: Square the differences\n",
    "squared_difference = difference**2\n",
    "print(\"Squared Difference:\", squared_difference)"
   ]
  },
  {
   "cell_type": "code",
   "execution_count": null,
   "id": "8153daad",
   "metadata": {},
   "outputs": [],
   "source": [
    "# Step 5: Sum the squared differences\n",
    "sum_squared_difference = np.sum(squared_difference)\n",
    "print(\"Sum of Squared Differences:\", sum_squared_difference)"
   ]
  },
  {
   "cell_type": "code",
   "execution_count": null,
   "id": "9d5422a4",
   "metadata": {},
   "outputs": [],
   "source": [
    "# Step 6: Take the square root of the sum\n",
    "euclidean_distance = np.sqrt(sum_squared_difference)\n",
    "print(\"Euclidean Distance:\", euclidean_distance)"
   ]
  },
  {
   "cell_type": "markdown",
   "id": "69af0ade",
   "metadata": {},
   "source": [
    "# GIL (Python Global Interpreter Lock)\n",
    "\n",
    "- Lock that allows only one thread to hold the control of the Python interpreter.\n",
    "- This means that only one thread can be in a state of execution at any point in time. \n",
    "- The impact of the GIL isn’t visible to developers who execute single-threaded programs, but it can be a performance bottleneck in CPU-bound and multi-threaded code\n",
    "\n",
    "## Why was the GIL implemented in Python?\n",
    "\n",
    "- Python uses reference counting for memory management. It means that objects created in Python have a reference count variable that keeps track of the number of references that point to the object. \n",
    "- When this count reaches zero, the memory occupied by the object is released."
   ]
  },
  {
   "cell_type": "code",
   "execution_count": null,
   "id": "a133c6ad",
   "metadata": {},
   "outputs": [],
   "source": [
    "import sys\n",
    "a = []\n",
    "b = a\n",
    "sys.getrefcount(a)"
   ]
  },
  {
   "cell_type": "code",
   "execution_count": null,
   "id": "c69c90f0",
   "metadata": {},
   "outputs": [],
   "source": [
    "import sys\n",
    "a = []\n",
    "b = a\n",
    "c = a\n",
    "sys.getrefcount(a)"
   ]
  },
  {
   "cell_type": "markdown",
   "id": "3cf3802c",
   "metadata": {},
   "source": [
    "The problem was that this reference count variable needed protection from race conditions where two threads increase or decrease its value simultaneously. This can cause the following:\n",
    "- It can cause either leaked memory that is never released.\n",
    "- Release the memory while a reference to that object still exists. \n",
    "\n",
    "This reference count variable can be kept safe by adding locks to all data structures that are shared across threads so that they are not modified inconsistently.\n",
    "\n",
    "But adding a lock to each object or groups of objects means multiple locks will exist which can cause another problem—Deadlocks (deadlocks can only happen if there is more than one lock) and can also decrease performance.\n",
    "\n",
    "The GIL is a single lock on the interpreter itself which adds a rule that execution of any Python bytecode requires acquiring the interpreter lock. This prevents deadlocks (as there is only one lock) and doesn’t introduce much performance overhead. **But it effectively makes any CPU-bound Python program single-threaded.**\n",
    "\n",
    "## Why Python still has the GIL?\n",
    "\n",
    "Python cannot bring a change as significant as the removal of GIL without causing backward incompatibility issues.\n",
    "\n",
    "Discussed by the creator of Python:\n",
    "\n",
    "https://www.artima.com/weblogs/viewpost.jsp?thread=214235\n"
   ]
  },
  {
   "cell_type": "markdown",
   "id": "b85dc2ea",
   "metadata": {},
   "source": [
    "**Alternative Python interpreters:** Python has multiple interpreter implementations. CPython, Jython, IronPython and PyPy, written in C, Java, C# and Python respectively, are the most popular ones. GIL exists only in the original Python implementation that is CPython. If your program, with its libraries, is available for one of the other implementations then you can try them out as well."
   ]
  },
  {
   "cell_type": "code",
   "execution_count": null,
   "id": "d93ca111",
   "metadata": {},
   "outputs": [],
   "source": [
    "from numba import jit\n",
    "import numpy as np\n",
    "import time\n",
    "\n",
    "x = np.arange(100).reshape(10, 10)\n",
    "\n",
    "@jit(nopython=True)\n",
    "def go_fast(a): # Function is compiled and runs in machine code\n",
    "    trace = 0.0\n",
    "    for i in range(a.shape[0]):\n",
    "        trace += np.tanh(a[i, i])\n",
    "    return a + trace\n",
    "\n",
    "# COMPILATION TIME IS INCLUDED IN THE EXECUTION TIME!\n",
    "start = time.time()\n",
    "go_fast(x)\n",
    "end = time.time()\n",
    "print(\"Elapsed (with compilation) = {}s\".format((end - start)))\n",
    "\n",
    "# NOW THE FUNCTION IS COMPILED, RE-TIME IT EXECUTING FROM CACHE\n",
    "start = time.time()\n",
    "go_fast(x)\n",
    "end = time.time()\n",
    "print(\"Elapsed (after compilation) = {}s\".format((end - start)))"
   ]
  }
 ],
 "metadata": {
  "kernelspec": {
   "display_name": "Python 3 (ipykernel)",
   "language": "python",
   "name": "python3"
  },
  "language_info": {
   "codemirror_mode": {
    "name": "ipython",
    "version": 3
   },
   "file_extension": ".py",
   "mimetype": "text/x-python",
   "name": "python",
   "nbconvert_exporter": "python",
   "pygments_lexer": "ipython3",
   "version": "3.9.16"
  }
 },
 "nbformat": 4,
 "nbformat_minor": 5
}
