{
 "cells": [
  {
   "cell_type": "markdown",
   "id": "ca67b377",
   "metadata": {},
   "source": [
    "\n",
    "<hr style=\"height: 2px; background: linear-gradient(to right, #E31B1D 50%, #00A4DD 50%);\">\n",
    "\n",
    "<div style=\"display: flex;\">\n",
    "    \n",
    "<div style=\"width: 20%; text-align: left;\">\n",
    "    <img src=\"logos/hpc_logo.png\" alt=\"HPC Logo\" width=\"100px\">\n",
    "</div>\n",
    "\n",
    "<div style=\"width: 60%; text-align: center;\">\n",
    "    <strong><center><font size = \"6\">Numpy basics and replacing python loops</font></center></strong>\n",
    "    <br>\n",
    "    <strong><center><font size = \"4\">Python + HPC</font></center></strong>\n",
    "</div>\n",
    "\n",
    "<div style=\"width: 20%; text-align: right;display: flex; justify-content: center;align-items: center;\">\n",
    "    <img src=\"logos/unilu_logo.png\" alt=\"UL logo\" width=\"100px\">\n",
    "</div>\n",
    "    \n",
    "</div>\n",
    "\n",
    "<hr style=\"height: 2px; background: linear-gradient(to right, #E31B1D 50%, #00A4DD 50%);\">\n",
    "\n",
    "By: **Oscar J. CASTRO-LOPEZ** (oscar.castro@uni.lu)\n",
    "\n",
    "**University of Luxembourg | HPC | PCOG**\n",
    "\n",
    "<hr>\n",
    "\n",
    "## Table of Contents\n",
    "\n",
    "0. [Workshop Overview](#workshopoverview)\n",
    "1. [Numpy's basics](#numpybasic)\n",
    "2. [Numpy's Operations and broadcasting](#numpyopbroad)\n",
    "3. [Use Numpy to replace python loops](#replaceloops)\n",
    "4. [Conclusion](#conclusion)\n",
    "\n",
    "\n",
    "## 0. Workshop Overview <a name=\"workshopoverview\"></a>\n",
    "\n",
    "Welcome to the **Python + HPC workshop**. In this interactive session, we will explore the process of optimizing Python code by leveraging the power of Numpy for efficient execution. Chances are, you're already familiar with Python and Numpy. However, before delving into parallelization techniques, it's crucial to ensure that Numpy functions are employed effectively to maximize performance.\n",
    "\n",
    "\n",
    "### Prerequisites \n",
    "\n",
    "Before we begin, please make sure you have the following:\n",
    "\n",
    "- A basic understanding of Python programming.\n",
    "- Familiarity with Jupyter Notebook (installed and configured). \n",
    "- A basic understanding of Numpy and linear algebra.\n",
    "\n",
    "### Agenda\n",
    "\n",
    "1. **Numpy's Basic's**\n",
    "2. **Numpy's Broadcasting**\n",
    "2. **Replacing Python loops with Numpy**\n",
    "3. **Q&A and Closing Remarks**\n",
    "\n",
    "### Workshop Key Goals\n",
    "The primary objectives of this workshop are:\n",
    "\n",
    "- To provide a basic understanding of Numpy's broadcasting.\n",
    "- To equip you with practical skills on how to efficiently replace python loops with Numpy.\n",
    "\n",
    "### Getting Started\n",
    "\n",
    "To get started with this workshop, follow these steps:\n",
    "\n",
    "1. Clone or download the workshop materials from the [GitHub repository](https://github.com/ULHPC/python-school).\n",
    "2. Open a terminal and navigate to the workshop directory.\n",
    "3. Open this notebook (`2_Replacing_loops.ipynb`) in your browser.\n",
    "\n",
    "Let's get started!\n",
    "\n",
    "<hr style=\"height: 2px; background: linear-gradient(to right, #E31B1D 50%, #00A4DD 50%);\">"
   ]
  },
  {
   "cell_type": "markdown",
   "id": "15e43308",
   "metadata": {},
   "source": [
    "## 1. Numpy's Basic's <a name=\"numpybasic\"></a>\n",
    "\n",
    "**NumPy** is a powerful Python library for numerical computations and efficient handling of arrays and matrices.\n",
    "\n",
    "More information on: https://numpy.org/\n",
    "\n",
    "Key characteristics of Numpy:\n",
    "\n",
    "- While a Python list can contain different data types within a single list, all of the elements in a NumPy array should be homogeneous.\n",
    "- NumPy arrays are faster and more compact than Python lists. An array consumes less memory.\n",
    "- NumPy uses much less memory to store data and it provides a mechanism of specifying the data types. This allows the code to be optimized even further.\n",
    "- An array is a central data structure of the NumPy library.\n",
    "- An array is a grid of values and it contains information about the raw data, how to locate an element, and how to interpret an element.\n",
    "\n",
    "Attributes of an array:\n",
    "- is usually a fixed-size container of items of the same type and size.\n",
    "- number of dimensions and items in an array is defined by its shape. \n",
    "- the shape of an array is a tuple of non-negative integers that specify the sizes of each dimension.\n",
    "- in NumPy, dimensions are called axes.\n",
    "\n",
    "### Basic creation of arrays"
   ]
  },
  {
   "cell_type": "code",
   "execution_count": null,
   "id": "7e27d031",
   "metadata": {},
   "outputs": [],
   "source": [
    "import numpy as np\n",
    "a = np.array([1, 2, 3, 4, 5])\n",
    "print(a)"
   ]
  },
  {
   "cell_type": "code",
   "execution_count": null,
   "id": "05e5a637",
   "metadata": {},
   "outputs": [],
   "source": [
    "a = np.arange(5)\n",
    "print(a)"
   ]
  },
  {
   "cell_type": "markdown",
   "id": "5f9d7e41",
   "metadata": {},
   "source": [
    "### Creation of 4x4 array (matrix) using reshape"
   ]
  },
  {
   "cell_type": "code",
   "execution_count": null,
   "id": "745d7267",
   "metadata": {},
   "outputs": [],
   "source": [
    "matrix_sm = np.arange(16).reshape((4,4))\n",
    "print(matrix_sm)"
   ]
  },
  {
   "cell_type": "markdown",
   "id": "ee0e1e08",
   "metadata": {},
   "source": [
    "Using `arr.reshape()` will give a new shape to an array without changing the data. \n",
    "\n",
    "Print the shape, size and number of dimension of the arrays:"
   ]
  },
  {
   "cell_type": "code",
   "execution_count": null,
   "id": "b135f310",
   "metadata": {},
   "outputs": [],
   "source": [
    "print(f'a shape: {a.shape} - a size: {a.size} - - a dimensions: {a.ndim}')\n",
    "print(f'matrix shape: {matrix_sm.shape} - matrix size: {matrix_sm.size} - matrix dimensions {matrix_sm.ndim}')"
   ]
  },
  {
   "cell_type": "markdown",
   "id": "a337b304",
   "metadata": {},
   "source": [
    "### Adding a new axis to an array\n",
    "\n",
    "You can use `np.newaxis` and `np.expand_dims` to increase the dimensions of your existing array."
   ]
  },
  {
   "cell_type": "code",
   "execution_count": null,
   "id": "7b163ff1",
   "metadata": {},
   "outputs": [],
   "source": [
    "# With np.newaxis\n",
    "a = np.arange(5)\n",
    "print(a, a.shape)\n",
    "\n",
    "a2 = a[np.newaxis, :]\n",
    "print(a2, a2.shape)\n",
    "\n",
    "a2 = a[:, np.newaxis]\n",
    "print(a2, a2.shape)"
   ]
  },
  {
   "cell_type": "code",
   "execution_count": null,
   "id": "22c57739",
   "metadata": {},
   "outputs": [],
   "source": [
    "# With np.expand_dims\n",
    "a = np.arange(5)\n",
    "print(a, a.shape)\n",
    "\n",
    "a2 = np.expand_dims(a, axis=0)\n",
    "print(a2, a2.shape)\n",
    "\n",
    "a2 = np.expand_dims(a, axis=1)\n",
    "print(a2, a2.shape)"
   ]
  },
  {
   "cell_type": "markdown",
   "id": "59b2d9df",
   "metadata": {},
   "source": [
    "### Indexing and slicing\n",
    "\n",
    "Works similarly to indexing and slicing python lists."
   ]
  },
  {
   "cell_type": "code",
   "execution_count": null,
   "id": "49f870e0",
   "metadata": {},
   "outputs": [],
   "source": [
    "a = np.arange(10)\n",
    "print(a) # Print all\n",
    "print(a[5])  # Print element in 5th position\n",
    "print(a[0:3]) # print elements from 0 to 3\n",
    "print(a[3:]) # print elements from 3 to the end (inclusive)\n",
    "print(a[:3]) # print elements from the start to the 3rd element (non-inclusive)\n",
    "print(a[-3:]) # print elements from the end to the 3rd element from right to left\n",
    "print(a[a < 5]) # print elements lower than 5 with a boolean index\n",
    "print(a[[0, 5, 9]]) # print elements with the index [0, 5, 9]"
   ]
  },
  {
   "cell_type": "markdown",
   "id": "f0deb223",
   "metadata": {},
   "source": [
    "## 2. Numpy's Operations and broadcasting <a name=\"numpyopbroad\"></a>\n",
    "\n",
    "\n",
    "- Broadcasting in NumPy allows you to perform operations between arrays of different shapes or between an array and a scalar value. \n",
    "\n",
    "- It simplifies the process by automatically aligning and extending the smaller array to match the shape of the larger one, enabling you to perform element-wise operations without explicitly reshaping the arrays. \n",
    "\n",
    "- This powerful feature simplifies code and makes it more concise when working with arrays of different sizes in NumPy."
   ]
  },
  {
   "cell_type": "code",
   "execution_count": null,
   "id": "fa85e8e8",
   "metadata": {},
   "outputs": [],
   "source": [
    "matrix_sm = np.arange(16).reshape((4,4))\n",
    "print(matrix_sm)"
   ]
  },
  {
   "cell_type": "markdown",
   "id": "d491aa7a",
   "metadata": {},
   "source": [
    "Operation with a scalar value."
   ]
  },
  {
   "cell_type": "code",
   "execution_count": null,
   "id": "447974ba",
   "metadata": {},
   "outputs": [],
   "source": [
    "matrix_sm * 2"
   ]
  },
  {
   "cell_type": "markdown",
   "id": "8793d3f2",
   "metadata": {},
   "source": [
    "Operation with two vector with matching shapes.."
   ]
  },
  {
   "cell_type": "code",
   "execution_count": null,
   "id": "499c852a",
   "metadata": {},
   "outputs": [],
   "source": [
    "row1 = np.arange(4)\n",
    "print(row1)\n",
    "row2 = np.arange(4) * 2\n",
    "print(row1)\n",
    "print(row1 + row2)"
   ]
  },
  {
   "cell_type": "markdown",
   "id": "3ca3b5fe",
   "metadata": {},
   "source": [
    "Operation matrix and vector with matching shapes."
   ]
  },
  {
   "cell_type": "code",
   "execution_count": null,
   "id": "1762c160",
   "metadata": {},
   "outputs": [],
   "source": [
    "row_sm = np.arange(4)\n",
    "print(row_sm)\n",
    "print()\n",
    "print(matrix_sm * row_sm)"
   ]
  },
  {
   "cell_type": "markdown",
   "id": "e7ece5cb",
   "metadata": {},
   "source": [
    "Operation matrix and row with unmatching shapes."
   ]
  },
  {
   "cell_type": "code",
   "execution_count": null,
   "id": "bc334347",
   "metadata": {},
   "outputs": [],
   "source": [
    "row_sm = np.arange(5)\n",
    "print(row_sm)\n",
    "print()\n",
    "print(matrix_sm * row_sm)"
   ]
  },
  {
   "cell_type": "markdown",
   "id": "0ee42902",
   "metadata": {},
   "source": [
    "**General Broadcasting Rules**\n",
    "\n",
    "When operating on two arrays, NumPy compares their shapes element-wise. It starts with the trailing (i.e. rightmost) dimension and works its way left. Two dimensions are compatible when\n",
    "\n",
    "- they are equal, or\n",
    "- one of them is 1.\n",
    "\n",
    "More details on: https://numpy.org/doc/stable/user/basics.broadcasting.html"
   ]
  },
  {
   "cell_type": "code",
   "execution_count": null,
   "id": "06d41f25",
   "metadata": {},
   "outputs": [],
   "source": [
    "matrix_sm = np.arange(20).reshape((5,4))\n",
    "print(matrix_sm.shape)\n",
    "row_sm = np.arange(5)\n",
    "print(row_sm.shape)"
   ]
  },
  {
   "cell_type": "code",
   "execution_count": null,
   "id": "dec8d014",
   "metadata": {},
   "outputs": [],
   "source": [
    "matrix_sm * row_sm"
   ]
  },
  {
   "cell_type": "code",
   "execution_count": null,
   "id": "fb12c252",
   "metadata": {},
   "outputs": [],
   "source": [
    "row_sm2 = row_sm[np.newaxis, :]\n",
    "print(row_sm2.shape)\n",
    "print()\n",
    "print(row_sm2)"
   ]
  },
  {
   "cell_type": "code",
   "execution_count": null,
   "id": "0957b9d1",
   "metadata": {},
   "outputs": [],
   "source": [
    "matrix_sm * row_sm2"
   ]
  },
  {
   "cell_type": "code",
   "execution_count": null,
   "id": "688727ae",
   "metadata": {},
   "outputs": [],
   "source": [
    "row_sm2 = row_sm[:, np.newaxis]\n",
    "print(row_sm2.shape)\n",
    "print()\n",
    "print(row_sm2)"
   ]
  },
  {
   "cell_type": "code",
   "execution_count": null,
   "id": "b3a76ccc",
   "metadata": {},
   "outputs": [],
   "source": [
    "matrix_sm * row_sm2"
   ]
  },
  {
   "cell_type": "markdown",
   "id": "4a471fe4",
   "metadata": {},
   "source": [
    "### Numpy operators with argument `axis`\n",
    "\n",
    "When an operation or function includes the axis argument, it is used to specify the axis along which the operation should be applied. NumPy arrays can have multiple dimensions, and the axis argument allows you to control whether an operation should be performed across rows, columns, or some other dimension."
   ]
  },
  {
   "cell_type": "code",
   "execution_count": null,
   "id": "ce048047",
   "metadata": {},
   "outputs": [],
   "source": [
    "matrix_sm = np.arange(16).reshape((4,4))\n",
    "print(f'Matrix content: \\n{matrix_sm}\\n')\n",
    "# matrix sum without the axis\n",
    "print(f'Matrix result of sum all values: {np.sum(matrix_sm)}\\n')\n",
    "# matrix sum with axis = 0 - sum across columns\n",
    "print(f'Matrix result of sum all values: \\n{np.sum(matrix_sm, axis=0)}\\n')\n",
    "# matrix sum with axis = 1 - sum across rows\n",
    "print(np.sum(matrix_sm, axis=1))"
   ]
  },
  {
   "cell_type": "markdown",
   "id": "a1f57813",
   "metadata": {},
   "source": [
    "## 3. Use Numpy to replace python loops  <a name=\"replaceloops\"></a>\n",
    "\n",
    "### Use case: matrix multiplication\n",
    "\n",
    "Certainly! Matrix multiplication is a fundamental operation in linear algebra. It involves taking the dot product of rows and columns to produce a new matrix. Let's explain it step by step with formulas and an example.\n",
    "\n",
    "Matrix Multiplication Formula:\n",
    "\n",
    "Suppose we have two matrices, A and B, where A has dimensions (m x n) and B has dimensions (n x p). The resulting matrix C will have dimensions (m x p), and the elements of C are calculated as follows:\n",
    "\n",
    "$$C_{ij} = ∑_{k=1}^{n} A_{ik} \\cdot B_{kj}$$\n",
    "\n",
    "Here,\n",
    "- $C_{ij}$ represents the element at the i-th row and j-th column of matrix C.\n",
    "- $A_{ik}$ represents the element at the i-th row and k-th column of matrix A.\n",
    "- $B_{kj}$ represents the element at the k-th row and j-th column of matrix B.\n",
    "\n",
    "**Example:**\n",
    "\n",
    "Let's say we have two matrices, A and B, to multiply:\n",
    "\n",
    "<table>\n",
    "<tr>\n",
    "<th style=\"text-align: center;\" width=\"50%\">Matrix A (2 x 3)</th>\n",
    "<th style=\"text-align: center;\" width=\"50%\">Matrix B (3 x 2)</th>\n",
    "</tr>\n",
    "<tr>\n",
    "<td style=\"text-align: left;\">\n",
    "\n",
    "<table>\n",
    "<tr>\n",
    "<td>1</td>\n",
    "<td>2</td>\n",
    "<td>3</td>\n",
    "</tr>\n",
    "<tr>\n",
    "<td>4</td>\n",
    "<td>5</td>\n",
    "<td>6</td>\n",
    "</tr>    \n",
    "</table>\n",
    "\n",
    "</td>\n",
    "<td style=\"text-align: left;\">\n",
    "<table>\n",
    "<tr>\n",
    "<td>7</td>\n",
    "<td>8</td>\n",
    "</tr>\n",
    "<tr>\n",
    "<td>9</td>\n",
    "<td>10</td>\n",
    "</tr>\n",
    "<tr>\n",
    "<td>11</td>\n",
    "<td>12</td>\n",
    "</tr>    \n",
    "</table>\n",
    "\n",
    "\n",
    "</td>\n",
    "</tr>\n",
    "</table>\n",
    "\n",
    "We want to calculate the product C = A * B.\n",
    "\n",
    "To calculate $C_{11}$, we take the dot product of the first row of A and the first column of B. To calculate $C_{12}$, we take the dot product of the first row of A and the second column of B. And so on:\n",
    "\n",
    "$$C_{11} = (1 * 7) + (2 * 9) + (3 * 11) = 7 + 18 + 33 = 58$$\n",
    "$$C_{12} = (1 * 8) + (2 * 10) + (3 * 12) = 8 + 20 + 36 = 64$$\n",
    "$$C_{21} = (4 * 7) + (5 * 9) + (6 * 11) = 28 + 45 + 66 = 139$$\n",
    "$$C_{22} = (4 * 8) + (5 * 10) + (6 * 12) = 32 + 50 + 72 = 154$$\n",
    "\n",
    "So, the resulting matrix C (2 x 2) is:\n",
    "\n",
    "<table>\n",
    "<tr>\n",
    "<td>58</td>\n",
    "<td>64</td>\n",
    "</tr>\n",
    "<tr>\n",
    "<td>139</td>\n",
    "<td>154</td>\n",
    "</tr>    \n",
    "</table>\n",
    "\n",
    "### Matrix multiplication using \"vanilla\" Python\n",
    "\n",
    "The following code defines a `matrix_multiply` function that takes two matrices A and B as input and returns their product C. Make sure that the number of columns in matrix A matches the number of rows in matrix B for matrix multiplication to be valid."
   ]
  },
  {
   "cell_type": "code",
   "execution_count": null,
   "id": "59a17540",
   "metadata": {},
   "outputs": [],
   "source": [
    "def matrix_multiply(A, B):\n",
    "    nrows_A = A.shape[0]\n",
    "    ncols_A = A.shape[1]\n",
    "    nrows_B = B.shape[0]\n",
    "    ncols_B = B.shape[1]\n",
    "\n",
    "    # Check if matrices can be multiplied\n",
    "    if ncols_A != nrows_B:\n",
    "        raise ValueError(\"Number of columns in A must be equal to the number of rows in B.\")\n",
    "\n",
    "    C = np.zeros((ncols_B, nrows_A))\n",
    "\n",
    "    # Perform matrix multiplication\n",
    "    for i in range(nrows_A):\n",
    "        for j in range(ncols_B):\n",
    "            for k in range(ncols_A):\n",
    "                C[i,j] += A[i,k] * B[k,j]\n",
    "\n",
    "    return C"
   ]
  },
  {
   "cell_type": "code",
   "execution_count": null,
   "id": "6ca30b31",
   "metadata": {},
   "outputs": [],
   "source": [
    "# Example matrices A and B\n",
    "A = np.array([[1, 2, 3], [4, 5, 6]], dtype=int)\n",
    "B = np.array([[7, 8], [9, 10], [11, 12]], dtype=int)\n",
    "\n",
    "# Multiply matrices A and B\n",
    "result = matrix_multiply(A, B)\n",
    "\n",
    "# Print the result\n",
    "print(result)"
   ]
  },
  {
   "cell_type": "markdown",
   "id": "53ce9f7f-8f30-4967-b3d8-de740c923008",
   "metadata": {},
   "source": [
    "### Matrix multiplication: remove one loop\n",
    "\n",
    "Complete the following code snippet with Numpy. One loop has been removed."
   ]
  },
  {
   "cell_type": "code",
   "execution_count": null,
   "id": "2e5e784d",
   "metadata": {},
   "outputs": [],
   "source": [
    "def matrix_multiply_np1(A, B):\n",
    "    nrows_A = A.shape[0]\n",
    "    ncols_A = A.shape[1]\n",
    "    nrows_B = B.shape[0]\n",
    "    ncols_B = B.shape[1]\n",
    "\n",
    "    # Check if matrices can be multiplied\n",
    "    if ncols_A != nrows_B:\n",
    "        raise ValueError(\"Number of columns in A must be equal to the number of rows in B.\")\n",
    "\n",
    "    C = np.zeros((ncols_B, nrows_A))\n",
    "\n",
    "    # Perform matrix multiplication\n",
    "    for i in range(nrows_A):\n",
    "        for j in range(ncols_B):\n",
    "            C[i,j] = np.sum(A[i,:] * B[:,j]) #TODO: delete before setting the repo public\n",
    "\n",
    "    return C"
   ]
  },
  {
   "cell_type": "code",
   "execution_count": null,
   "id": "0554f771",
   "metadata": {},
   "outputs": [],
   "source": [
    "# Multiply matrices A and B\n",
    "result = matrix_multiply_np1(A, B)\n",
    "\n",
    "# Print the result\n",
    "print(result)"
   ]
  },
  {
   "cell_type": "markdown",
   "id": "c763d478-44a7-44cd-999a-ad3f6ba74b57",
   "metadata": {},
   "source": [
    "### Matrix multiplication: remove two loops\n",
    "\n",
    "Complete the following code snippet with Numpy. Two loops has been removed."
   ]
  },
  {
   "cell_type": "code",
   "execution_count": null,
   "id": "dd8a11df",
   "metadata": {},
   "outputs": [],
   "source": [
    "def matrix_multiply_np2(A, B):\n",
    "    nrows_A = A.shape[0]\n",
    "    ncols_A = A.shape[1]\n",
    "    nrows_B = B.shape[0]\n",
    "    ncols_B = B.shape[1]\n",
    "\n",
    "    # Check if matrices can be multiplied\n",
    "    if ncols_A != nrows_B:\n",
    "        raise ValueError(\"Number of columns in A must be equal to the number of rows in B.\")\n",
    "\n",
    "    C = np.zeros((ncols_B, nrows_A))\n",
    "\n",
    "    # Perform matrix multiplication\n",
    "    for i in range(nrows_A):\n",
    "        # TODO: delete before setting the repo public ####\n",
    "        # All in one line\n",
    "        #C[i] = np.sum(A[i,:][:, np.newaxis] * B, axis=0)\n",
    "        # Cleaner code\n",
    "        row_A = A[i,:]\n",
    "        C[i] = np.sum(row_A[:, np.newaxis] * B, axis=0)\n",
    "\n",
    "    return C"
   ]
  },
  {
   "cell_type": "code",
   "execution_count": null,
   "id": "b3654552",
   "metadata": {},
   "outputs": [],
   "source": [
    "# Multiply matrices A and B\n",
    "result = matrix_multiply_np2(A, B)\n",
    "\n",
    "# Print the result\n",
    "print(result)"
   ]
  },
  {
   "cell_type": "markdown",
   "id": "45181f11-0fb8-4dcc-bce5-354635c02861",
   "metadata": {},
   "source": [
    "### Matrix multiplication: remove all loops\n",
    "\n",
    "We can remove the three loops in the following way."
   ]
  },
  {
   "cell_type": "code",
   "execution_count": null,
   "id": "f1619bee",
   "metadata": {},
   "outputs": [],
   "source": [
    "def matrix_multiply_np3(A, B):\n",
    "    nrows_A = A.shape[0]\n",
    "    ncols_A = A.shape[1]\n",
    "    nrows_B = B.shape[0]\n",
    "    ncols_B = B.shape[1]\n",
    "\n",
    "    # Check if matrices can be multiplied\n",
    "    if ncols_A != nrows_B:\n",
    "        raise ValueError(\"Number of columns in A must be equal to the number of rows in B.\")\n",
    "\n",
    "    C = np.zeros((ncols_B, nrows_A))\n",
    "\n",
    "    # TODO: delete before setting the repo public ####\n",
    "    # Perform matrix multiplication\n",
    "    C = np.sum(np.expand_dims(A, axis=A.shape[0]) * B, axis=1) # Won't work for a very large matrix\n",
    "    \n",
    "    return C"
   ]
  },
  {
   "cell_type": "code",
   "execution_count": null,
   "id": "4ba4864b",
   "metadata": {},
   "outputs": [],
   "source": [
    "# Multiply matrices A and B\n",
    "result = matrix_multiply_np3(A, B)\n",
    "\n",
    "# Print the result\n",
    "print(result)"
   ]
  },
  {
   "cell_type": "markdown",
   "id": "9332130e-5fcc-4836-a26c-43e3112b90ac",
   "metadata": {},
   "source": [
    "However, this is not recommended. **It's not going to work for a very large matrix and code is not easy to read.**"
   ]
  },
  {
   "cell_type": "markdown",
   "id": "5e8adeab-74f4-4ade-a68a-9afddd059358",
   "metadata": {},
   "source": [
    "### Take elapsed time of each code version\n",
    "\n",
    "In the following cells we create larger matrices and use the previously developed versions."
   ]
  },
  {
   "cell_type": "code",
   "execution_count": null,
   "id": "11adbbb7",
   "metadata": {},
   "outputs": [],
   "source": [
    "rows = 250\n",
    "cols = 300\n",
    "np.random.seed(699)\n",
    "A = np.random.rand(rows*cols).reshape((rows, cols))\n",
    "B = np.random.rand(rows*cols).reshape((cols, rows))\n",
    "print(f'A shape {A.shape}')\n",
    "print(f'B shape {B.shape}')"
   ]
  },
  {
   "cell_type": "code",
   "execution_count": null,
   "id": "34cca0fc",
   "metadata": {},
   "outputs": [],
   "source": [
    "%%timeit\n",
    "matrix_multiply(A, B)"
   ]
  },
  {
   "cell_type": "code",
   "execution_count": null,
   "id": "b875bce9",
   "metadata": {},
   "outputs": [],
   "source": [
    "%%timeit\n",
    "matrix_multiply_np1(A, B)"
   ]
  },
  {
   "cell_type": "code",
   "execution_count": null,
   "id": "7365a3db",
   "metadata": {},
   "outputs": [],
   "source": [
    "%%timeit\n",
    "matrix_multiply_np2(A, B)"
   ]
  },
  {
   "cell_type": "markdown",
   "id": "dd7ca478",
   "metadata": {},
   "source": [
    "## 4. Conclusion / take away <a name=\"conclusion\"></a>\n",
    "\n",
    "By mastering Numpy, you're equipped with a fundamental tool to tackle complex mathematical and data-related challenges in Python with speed, efficiency, and elegance.\n",
    "\n",
    "In this tutorial, we've covered the following key areas:\n",
    "- Numpy usage of broadcasting: You've learned how Numpy's broadcasting rules can efficiently handle operations between arrays of different shapes, simplifying complex tasks and reducing the need for explicit loops.\n",
    "- Vectorized operations with Numpy: We've explored the magic of vectorized operations, where Numpy's array functionality shines. You've grasped how to replace traditional Python loops with these operations, resulting in code that's both faster and more readable.\n",
    "- Speeding up python programs with Numpy: You're now equipped with the tools to significantly enhance the speed and performance of your code, opening doors to tackle more ambitious projects.\n",
    "\n"
   ]
  },
  {
   "cell_type": "code",
   "execution_count": null,
   "id": "aa7ae51e",
   "metadata": {},
   "outputs": [],
   "source": []
  }
 ],
 "metadata": {
  "kernelspec": {
   "display_name": "Python 3 (ipykernel)",
   "language": "python",
   "name": "python3"
  },
  "language_info": {
   "codemirror_mode": {
    "name": "ipython",
    "version": 3
   },
   "file_extension": ".py",
   "mimetype": "text/x-python",
   "name": "python",
   "nbconvert_exporter": "python",
   "pygments_lexer": "ipython3",
   "version": "3.10.10"
  }
 },
 "nbformat": 4,
 "nbformat_minor": 5
}
