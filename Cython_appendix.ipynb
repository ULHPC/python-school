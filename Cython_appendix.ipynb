{
 "cells": [
  {
   "cell_type": "markdown",
   "id": "5c11f470",
   "metadata": {},
   "source": [
    "## Cython \n",
    "\n",
    "### Cython functions\n",
    "\n",
    "- **def** functions can be called from Python and Cython.\n",
    "- **cdef** functins can be called from Cython and C.\n",
    "- **cpdef** functions cause Cython o generate a cdef function and def function."
   ]
  },
  {
   "cell_type": "code",
   "execution_count": null,
   "id": "502b3145",
   "metadata": {},
   "outputs": [],
   "source": [
    "%load_ext Cython"
   ]
  },
  {
   "cell_type": "code",
   "execution_count": null,
   "id": "7f34d263",
   "metadata": {},
   "outputs": [],
   "source": [
    "%%cython\n",
    "def hello_def():\n",
    "    print('Hello def')\n",
    "    \n",
    "cdef hello_cdef():\n",
    "    print('Hello cdef')\n",
    "    \n",
    "cpdef hello_cpdef():\n",
    "    print('Hello cpdef')"
   ]
  },
  {
   "cell_type": "code",
   "execution_count": null,
   "id": "7e741d3e",
   "metadata": {},
   "outputs": [],
   "source": [
    "hello_def()"
   ]
  },
  {
   "cell_type": "code",
   "execution_count": null,
   "id": "a728cd92",
   "metadata": {},
   "outputs": [],
   "source": [
    "hello_cdef()"
   ]
  },
  {
   "cell_type": "code",
   "execution_count": null,
   "id": "c9cc7479",
   "metadata": {},
   "outputs": [],
   "source": [
    "hello_cpdef()"
   ]
  },
  {
   "cell_type": "code",
   "execution_count": null,
   "id": "fcfe62c4",
   "metadata": {},
   "outputs": [],
   "source": [
    "%%cython\n",
    "\n",
    "cdef hello_cdef():\n",
    "    print('Hello cdef')\n",
    "    \n",
    "#def call_hello_cdef():\n",
    "#   hello_cdef()\n",
    "\n",
    "def wrapper_call_hello_cdef():\n",
    "    hello_cdef()\n",
    "    \n",
    "hello_cdef()"
   ]
  },
  {
   "cell_type": "code",
   "execution_count": null,
   "id": "b55361e6",
   "metadata": {},
   "outputs": [],
   "source": [
    "hello_cdef()"
   ]
  },
  {
   "cell_type": "code",
   "execution_count": null,
   "id": "5d6f877c",
   "metadata": {},
   "outputs": [],
   "source": [
    "wrapper_call_hello_cdef()"
   ]
  },
  {
   "cell_type": "markdown",
   "id": "53fe0e06",
   "metadata": {},
   "source": [
    "**What advantages are offered by cdef function?**\n",
    "- `cdef` functions can take any type of argument (including non-python such as pointers).\n",
    "- They can also specify a return type.\n",
    "- They are quicker to call than `def` because they translate directly to C.\n",
    "\n",
    "**Why Would I need a `cdef` function?**\n",
    "- To pass a non-Python types in or out\n",
    "- To pass it to C as a function pointer\n",
    "- For speedup if its called often (so you don't call it from Python)\n",
    "\n",
    "Example of how fast are the different function types:\n",
    "\n",
    "https://notes-on-cython.readthedocs.io/en/latest/fibo_speed.html"
   ]
  },
  {
   "cell_type": "markdown",
   "id": "3feaeb84",
   "metadata": {},
   "source": [
    "### Type definitions\n",
    "\n",
    "Using the **cdef** statement.\n",
    "\n",
    "Cython types:\n",
    "https://cython.readthedocs.io/en/latest/src/userguide/language_basics.html#types"
   ]
  },
  {
   "cell_type": "code",
   "execution_count": null,
   "id": "6258d821",
   "metadata": {},
   "outputs": [],
   "source": [
    "%%cython\n",
    "cdef int a_global_variable\n",
    "\n",
    "def func():\n",
    "    cdef int i, j, k\n",
    "    cdef float f\n",
    "    cdef float[42] g\n",
    "    cdef float *h\n",
    "    # cdef float f, g[42], *h  # mix of pointers, arrays and values in a single line is deprecated\n",
    "\n",
    "    i = j = 5"
   ]
  },
  {
   "cell_type": "code",
   "execution_count": null,
   "id": "a8a5cc9e",
   "metadata": {},
   "outputs": [],
   "source": [
    "func()"
   ]
  },
  {
   "cell_type": "markdown",
   "id": "be60843d",
   "metadata": {},
   "source": [
    "### Typed Memoryviews\n",
    "\n",
    "Typed memoryviews allow efficient access to memory buffers, such as those underlying NumPy arrays, without incurring any Python overhead.\n",
    "\n",
    "Specially useful if you are working with NumPy arrays."
   ]
  },
  {
   "cell_type": "code",
   "execution_count": null,
   "id": "bc4a5efd",
   "metadata": {},
   "outputs": [],
   "source": [
    "%%cython\n",
    "\n",
    "import numpy as np\n",
    "\n",
    "# Memoryview on a NumPy array\n",
    "np_array = np.arange(16, dtype=np.dtype(\"i\")).reshape((4, 4))\n",
    "cdef int [:, :] np_array_mv = np_array\n",
    "print(np_array)\n",
    "print(np_array_mv)\n",
    "\n",
    "# Memoryview on a C array\n",
    "cdef int[4][4] c_array\n",
    "cdef int [:, :] c_array_mv = c_array\n",
    "print(c_array)\n",
    "print(c_array_mv)\n",
    "\n",
    "# Copy the values from one memoryview into another (numpy-style)\n",
    "c_array_mv[...] = np_array_mv\n",
    "\n",
    "# A function using a memoryview does not usually need the GIL\n",
    "cpdef int sum2d(int[:, :] arr) nogil:\n",
    "    cdef size_t i, j, I, J\n",
    "    cdef int total = 0\n",
    "    I = arr.shape[0]\n",
    "    J = arr.shape[1]\n",
    "    for i in range(I):\n",
    "        for j in range(J):\n",
    "            total += arr[i, j]\n",
    "    return total\n",
    "\n",
    "print(f\"Memoryview sum of NumPy array is {sum2d(np_array)}\")\n",
    "print(f\"Memoryview sum of C array is {sum2d(c_array)}\")\n",
    "print(f\"Memoryview sum of NumPy array is {sum2d(np_array_mv)}\")\n",
    "print(f\"Memoryview sum of C array is {sum2d(c_array_mv)}\")"
   ]
  },
  {
   "cell_type": "markdown",
   "id": "19d2122a",
   "metadata": {},
   "source": [
    "### Using  parallelism with Cython\n",
    "\n",
    "```python\n",
    "cython.parallel.prange([start,] stop[, step][, nogil=False][, schedule=None[, chunksize=None]][, num_threads=None])\n",
    "```\n",
    "\n",
    "- start – The index indicating the start of the loop.\n",
    "- stop – The index indicating when to stop the loop.\n",
    "- step – An integer giving the step of the sequence. It must not be 0.\n",
    "- nogil – This function can only be used with the GIL released. If nogil is true, the loop will be wrapped in a nogil section.\n",
    "- schedule - The schedule is passed to OpenMP and can be one of the following: static, dynamic, guided, runtime.\n",
    "- num_threads - indicates how many threads the team should consist of. If not given, OpenMP will decide how many threads to use.\n",
    "- chunksize - indicates the chunksize to be used for dividing the iterations among threads. This is only valid for static, dynamic and guided scheduling, and is optional\n",
    "\n",
    "**Parallel reduction basic example**"
   ]
  },
  {
   "cell_type": "code",
   "execution_count": null,
   "id": "9e77a13f",
   "metadata": {},
   "outputs": [],
   "source": [
    "%%cython --compile-args=-fopenmp --link-args=-fopenmp --force\n",
    "from cython.parallel import prange\n",
    "\n",
    "cdef int i\n",
    "cdef int n = 30\n",
    "cdef int total = 0\n",
    "\n",
    "for i in prange(n, nogil=True):\n",
    "    total += i\n",
    "\n",
    "print(sum)"
   ]
  },
  {
   "cell_type": "markdown",
   "id": "06cc08c6",
   "metadata": {},
   "source": [
    "**Parallel processing basic example**"
   ]
  },
  {
   "cell_type": "code",
   "execution_count": null,
   "id": "46d31442",
   "metadata": {},
   "outputs": [],
   "source": [
    "%%cython --compile-args=-fopenmp --link-args=-fopenmp --force\n",
    "from cython.parallel import prange\n",
    "import numpy as np\n",
    "cimport numpy as np\n",
    "\n",
    "\n",
    "\n",
    "cdef test_cython(int n):\n",
    "    cdef int i\n",
    "    arr = np.array([x for x in range(n)], dtype=np.float32)\n",
    "    print(arr)\n",
    "    cdef float[:] arr_mv = arr\n",
    "    result = np.zeros((n,), dtype=np.float32)\n",
    "    cdef float[:] result_mv = result\n",
    "    for i in prange(, nogil=True):\n",
    "        result_mv[i] = arr_mv[i] * arr_mv[i]\n",
    "    return result\n",
    "\n",
    "cdef int n = 10\n",
    "\n",
    "print(test_cython(n))"
   ]
  },
  {
   "cell_type": "code",
   "execution_count": null,
   "id": "1598e3cf",
   "metadata": {},
   "outputs": [],
   "source": [
    "%%cython --compile-args=-fopenmp --link-args=-fopenmp --force\n",
    "from cython.parallel import prange\n",
    "import numpy as np\n",
    "cimport numpy as np\n",
    "\n",
    "\n",
    "cdef test_cython_cdef(n):\n",
    "    cdef int N = n\n",
    "    cdef int i\n",
    "    arr = np.array([x for x in range(n)], dtype=np.float32)\n",
    "    cdef float[:] arr_mv = arr\n",
    "    result = np.zeros((n,), dtype=np.float32)\n",
    "    cdef float[:] result_mv = result\n",
    "    for i in prange(N, nogil=True):\n",
    "        result_mv[i] = arr_mv[i] * arr_mv[i]\n",
    "    return result\n",
    "\n",
    "cdef int n = 1000000000\n",
    "\n",
    "import time\n",
    "start_time = time.time()\n",
    "test_cython_cdef(n)\n",
    "end_time = time.time()\n",
    "elapsed_time = end_time - start_time\n",
    "print(f\"Elapsed time: {elapsed_time} seconds\")"
   ]
  }
 ],
 "metadata": {
  "kernelspec": {
   "display_name": "Python 3 (ipykernel)",
   "language": "python",
   "name": "python3"
  },
  "language_info": {
   "codemirror_mode": {
    "name": "ipython",
    "version": 3
   },
   "file_extension": ".py",
   "mimetype": "text/x-python",
   "name": "python",
   "nbconvert_exporter": "python",
   "pygments_lexer": "ipython3",
   "version": "3.9.16"
  }
 },
 "nbformat": 4,
 "nbformat_minor": 5
}
